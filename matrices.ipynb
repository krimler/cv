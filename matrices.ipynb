{
  "nbformat": 4,
  "nbformat_minor": 0,
  "metadata": {
    "colab": {
      "name": "Untitled1.ipynb",
      "provenance": [],
      "authorship_tag": "ABX9TyPicwcV8CJkhZduxS0iqJ/8",
      "include_colab_link": true
    },
    "kernelspec": {
      "name": "python3",
      "display_name": "Python 3"
    }
  },
  "cells": [
    {
      "cell_type": "markdown",
      "metadata": {
        "id": "view-in-github",
        "colab_type": "text"
      },
      "source": [
        "<a href=\"https://colab.research.google.com/github/krimler/cv/blob/master/matrices.ipynb\" target=\"_parent\"><img src=\"https://colab.research.google.com/assets/colab-badge.svg\" alt=\"Open In Colab\"/></a>"
      ]
    },
    {
      "cell_type": "code",
      "metadata": {
        "id": "MfbUuw-Kcw3M",
        "colab_type": "code",
        "colab": {}
      },
      "source": [
        "def is_identity(mat):\n",
        "  '''is matrix a identity matrix?'''\n",
        "  # matrix is list of list.\n",
        "  for i, v in enumerate(mat):\n",
        "    for ii, vv in enumerate(v):\n",
        "      if i == ii:\n",
        "        if vv == 1:\n",
        "          continue\n",
        "        return False\n",
        "      if vv:\n",
        "        return False\n",
        "  return True\n",
        "\n",
        "m = [[1, 0], [0, 1]]\n",
        "assert(True == is_identity(m))\n",
        "m = [[1]]\n",
        "assert(True == is_identity(m))\n",
        "m = [[1, 0, 0], [0, 1, 0], [0, 0, 1]]\n",
        "assert(True == is_identity(m))"
      ],
      "execution_count": 0,
      "outputs": []
    },
    {
      "cell_type": "code",
      "metadata": {
        "id": "x520hjnKhkJ-",
        "colab_type": "code",
        "colab": {
          "base_uri": "https://localhost:8080/",
          "height": 674
        },
        "outputId": "7d98f53c-ab2c-49c9-8ba3-b8aaa27250ad"
      },
      "source": [
        "def check_size(m1, m2):\n",
        "  ''' are matrices suitable for multiplication?'''\n",
        "  num_rows = len(m1)\n",
        "  num_cols = len(m2)\n",
        "  for i, v in enumerate(m2):\n",
        "    if len(v) != num_rows:\n",
        "      return False\n",
        "  for i, v in enumerate(m1):\n",
        "    if len(v) != num_cols:\n",
        "      return False\n",
        "  return True\n",
        "\n",
        "def print_mat(m):\n",
        "  print('------->')\n",
        "  for row_index, row in enumerate(m):\n",
        "    for col_index, cols in enumerate(row):\n",
        "      print(cols, end='\\t')\n",
        "    print('')\n",
        "  print('<-------')\n",
        "\n",
        "def mat_mul(m1, m2):\n",
        "  m3 = []\n",
        "  for i, _ in enumerate(m1):\n",
        "    m3.append([])\n",
        "    for j, _ in enumerate(m2[0]):\n",
        "      m3[i].append(0)\n",
        "  print_mat(m3)\n",
        "  if not check_size(m1, m2):\n",
        "    assert(0)\n",
        "  # example matrices\n",
        "  # 1 2 3     3 1 \n",
        "  # 4 5 6     4 2\n",
        "  #           5 3\n",
        "  #\n",
        "  for i in range(len(m1)):\n",
        "    for j in range(len(m2)):\n",
        "      for k in range(len(m2[0])):\n",
        "\n",
        "        print(i, j, k)\n",
        "        m3[i][k] += m1[i][j] * m2[j][k];\n",
        "  return m3\n",
        "\n",
        "def are_eq(m1, m2):\n",
        "  if len(m1) != len(m2):\n",
        "    return False\n",
        "  for i, _ in enumerate(m1):\n",
        "    for j, _ in enumerate(m[i]):\n",
        "      if m1[i][j] != m2[i][j]:\n",
        "        return False\n",
        "  return True\n",
        "\n",
        "m1 = [[1, 2, 3], [3, 2, 1]]\n",
        "m2 = [[0, 2], [1, -1], [0, 1]]\n",
        "assert(True == check_size(m1, m2))\n",
        "m3 = mat_mul(m1, m2)\n",
        "print_mat(m3)\n",
        "ans1 = [[2, 3],[2, 5]]\n",
        "assert (True == are_eq(ans1, m3))\n",
        "\n"
      ],
      "execution_count": 4,
      "outputs": [
        {
          "output_type": "stream",
          "text": [
            "------->\n",
            "0\t0\t\n",
            "0\t0\t\n",
            "<-------\n",
            "0 0 0\n",
            "0 0 1\n",
            "0 1 0\n",
            "0 1 1\n",
            "0 2 0\n",
            "0 2 1\n",
            "1 0 0\n",
            "1 0 1\n",
            "1 1 0\n",
            "1 1 1\n",
            "1 2 0\n",
            "1 2 1\n",
            "------->\n",
            "2\t3\t\n",
            "2\t5\t\n",
            "<-------\n"
          ],
          "name": "stdout"
        },
        {
          "output_type": "error",
          "ename": "NameError",
          "evalue": "ignored",
          "traceback": [
            "\u001b[0;31m---------------------------------------------------------------------------\u001b[0m",
            "\u001b[0;31mNameError\u001b[0m                                 Traceback (most recent call last)",
            "\u001b[0;32m<ipython-input-4-942923397345>\u001b[0m in \u001b[0;36m<module>\u001b[0;34m()\u001b[0m\n\u001b[1;32m     56\u001b[0m \u001b[0mprint_mat\u001b[0m\u001b[0;34m(\u001b[0m\u001b[0mm3\u001b[0m\u001b[0;34m)\u001b[0m\u001b[0;34m\u001b[0m\u001b[0;34m\u001b[0m\u001b[0m\n\u001b[1;32m     57\u001b[0m \u001b[0mans1\u001b[0m \u001b[0;34m=\u001b[0m \u001b[0;34m[\u001b[0m\u001b[0;34m[\u001b[0m\u001b[0;36m2\u001b[0m\u001b[0;34m,\u001b[0m \u001b[0;36m3\u001b[0m\u001b[0;34m]\u001b[0m\u001b[0;34m,\u001b[0m\u001b[0;34m[\u001b[0m\u001b[0;36m2\u001b[0m\u001b[0;34m,\u001b[0m \u001b[0;36m5\u001b[0m\u001b[0;34m]\u001b[0m\u001b[0;34m]\u001b[0m\u001b[0;34m\u001b[0m\u001b[0;34m\u001b[0m\u001b[0m\n\u001b[0;32m---> 58\u001b[0;31m \u001b[0;32massert\u001b[0m \u001b[0;34m(\u001b[0m\u001b[0;32mTrue\u001b[0m \u001b[0;34m==\u001b[0m \u001b[0mare_eq\u001b[0m\u001b[0;34m(\u001b[0m\u001b[0mans1\u001b[0m\u001b[0;34m,\u001b[0m \u001b[0mm3\u001b[0m\u001b[0;34m)\u001b[0m\u001b[0;34m)\u001b[0m\u001b[0;34m\u001b[0m\u001b[0;34m\u001b[0m\u001b[0m\n\u001b[0m\u001b[1;32m     59\u001b[0m \u001b[0;34m\u001b[0m\u001b[0m\n",
            "\u001b[0;32m<ipython-input-4-942923397345>\u001b[0m in \u001b[0;36mare_eq\u001b[0;34m(m1, m2)\u001b[0m\n\u001b[1;32m     45\u001b[0m     \u001b[0;32mreturn\u001b[0m \u001b[0;32mFalse\u001b[0m\u001b[0;34m\u001b[0m\u001b[0;34m\u001b[0m\u001b[0m\n\u001b[1;32m     46\u001b[0m   \u001b[0;32mfor\u001b[0m \u001b[0mi\u001b[0m\u001b[0;34m,\u001b[0m \u001b[0m_\u001b[0m \u001b[0;32min\u001b[0m \u001b[0menumerate\u001b[0m\u001b[0;34m(\u001b[0m\u001b[0mm1\u001b[0m\u001b[0;34m)\u001b[0m\u001b[0;34m:\u001b[0m\u001b[0;34m\u001b[0m\u001b[0;34m\u001b[0m\u001b[0m\n\u001b[0;32m---> 47\u001b[0;31m     \u001b[0;32mfor\u001b[0m \u001b[0mj\u001b[0m\u001b[0;34m,\u001b[0m \u001b[0m_\u001b[0m \u001b[0;32min\u001b[0m \u001b[0menumerate\u001b[0m\u001b[0;34m(\u001b[0m\u001b[0mm\u001b[0m\u001b[0;34m[\u001b[0m\u001b[0mi\u001b[0m\u001b[0;34m]\u001b[0m\u001b[0;34m)\u001b[0m\u001b[0;34m:\u001b[0m\u001b[0;34m\u001b[0m\u001b[0;34m\u001b[0m\u001b[0m\n\u001b[0m\u001b[1;32m     48\u001b[0m       \u001b[0;32mif\u001b[0m \u001b[0mm1\u001b[0m\u001b[0;34m[\u001b[0m\u001b[0mi\u001b[0m\u001b[0;34m]\u001b[0m\u001b[0;34m[\u001b[0m\u001b[0mj\u001b[0m\u001b[0;34m]\u001b[0m \u001b[0;34m!=\u001b[0m \u001b[0mm2\u001b[0m\u001b[0;34m[\u001b[0m\u001b[0mi\u001b[0m\u001b[0;34m]\u001b[0m\u001b[0;34m[\u001b[0m\u001b[0mj\u001b[0m\u001b[0;34m]\u001b[0m\u001b[0;34m:\u001b[0m\u001b[0;34m\u001b[0m\u001b[0;34m\u001b[0m\u001b[0m\n\u001b[1;32m     49\u001b[0m         \u001b[0;32mreturn\u001b[0m \u001b[0;32mFalse\u001b[0m\u001b[0;34m\u001b[0m\u001b[0;34m\u001b[0m\u001b[0m\n",
            "\u001b[0;31mNameError\u001b[0m: name 'm' is not defined"
          ]
        }
      ]
    }
  ]
}