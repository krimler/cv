{
  "nbformat": 4,
  "nbformat_minor": 0,
  "metadata": {
    "colab": {
      "name": "Untitled1.ipynb",
      "provenance": [],
      "authorship_tag": "ABX9TyOUfnq5d23XqvsB3VgRjnCm",
      "include_colab_link": true
    },
    "kernelspec": {
      "name": "python3",
      "display_name": "Python 3"
    }
  },
  "cells": [
    {
      "cell_type": "markdown",
      "metadata": {
        "id": "view-in-github",
        "colab_type": "text"
      },
      "source": [
        "<a href=\"https://colab.research.google.com/github/krimler/cv/blob/master/matrices.ipynb\" target=\"_parent\"><img src=\"https://colab.research.google.com/assets/colab-badge.svg\" alt=\"Open In Colab\"/></a>"
      ]
    },
    {
      "cell_type": "code",
      "metadata": {
        "id": "MfbUuw-Kcw3M",
        "colab_type": "code",
        "colab": {}
      },
      "source": [
        "def is_identity(mat):\n",
        "  '''is matrix a identity matrix?'''\n",
        "  # matrix is list of list.\n",
        "  for i, v in enumerate(mat):\n",
        "    for ii, vv in enumerate(v):\n",
        "      if i == ii:\n",
        "        if vv == 1:\n",
        "          continue\n",
        "        return False\n",
        "      if vv:\n",
        "        return False\n",
        "  return True\n",
        "\n",
        "m = [[1, 0], [0, 1]]\n",
        "assert(True == is_identity(m))\n",
        "m = [[1]]\n",
        "assert(True == is_identity(m))\n",
        "m = [[1, 0, 0], [0, 1, 0], [0, 0, 1]]\n",
        "assert(True == is_identity(m))"
      ],
      "execution_count": 0,
      "outputs": []
    },
    {
      "cell_type": "code",
      "metadata": {
        "id": "x520hjnKhkJ-",
        "colab_type": "code",
        "colab": {
          "base_uri": "https://localhost:8080/",
          "height": 170
        },
        "outputId": "48a87430-190e-4299-a99b-a389eb92a8cb"
      },
      "source": [
        "def check_size(m1, m2):\n",
        "  ''' are matrices suitable for multiplication?'''\n",
        "  num_rows = len(m1)\n",
        "  num_cols = len(m2)\n",
        "  for i, v in enumerate(m2):\n",
        "    if len(v) != num_rows:\n",
        "      return False\n",
        "  for i, v in enumerate(m1):\n",
        "    if len(v) != num_cols:\n",
        "      return False\n",
        "  return True\n",
        "\n",
        "def print_mat(m):\n",
        "  print('------->')\n",
        "  for row_index, row in enumerate(m):\n",
        "    for col_index, cols in enumerate(row):\n",
        "      print(cols, end='\\t')\n",
        "    print('')\n",
        "  print('<-------')\n",
        "\n",
        "def mat_mul(m1, m2):\n",
        "  m3 = []\n",
        "  for i, _ in enumerate(m1):\n",
        "    m3.append([])\n",
        "    for j, _ in enumerate(m2[0]):\n",
        "      m3[i].append(0)\n",
        "  if not check_size(m1, m2):\n",
        "    assert(0)\n",
        "  # example matrices\n",
        "  # 1 2 3     3 1 \n",
        "  # 4 5 6     4 2\n",
        "  #           5 3\n",
        "  #\n",
        "  for i in range(len(m1)):\n",
        "    for j in range(len(m2)):\n",
        "      for k in range(len(m2[0])):\n",
        "        m3[i][k] += m1[i][j] * m2[j][k];\n",
        "  return m3\n",
        "\n",
        "def are_eq(m1, m2):\n",
        "  if len(m1) != len(m2):\n",
        "    return False\n",
        "  for i, _ in enumerate(m1):\n",
        "    if len(m1[i]) != len(m2[i]):\n",
        "      return False\n",
        "    for j, _ in enumerate(m1[i]):\n",
        "      if m1[i][j] != m2[i][j]:\n",
        "        return False\n",
        "  return True\n",
        "\n",
        "m1 = [[1, 2, 3], [3, 2, 1]]\n",
        "m2 = [[0, 2], [1, -1], [0, 1]]\n",
        "assert(True == check_size(m1, m2))\n",
        "m3 = mat_mul(m1, m2)\n",
        "print_mat(m3)\n",
        "ans1 = [[2, 3],[2, 5]]\n",
        "assert (True == are_eq(ans1, m3))\n",
        "ans1 = [[6, 4, 2], [-2, 0, 2], [3, 2, 1]]\n",
        "m3 = mat_mul(m2, m1)\n",
        "print_mat(m3)\n",
        "assert (True == are_eq(ans1, m3))\n"
      ],
      "execution_count": 8,
      "outputs": [
        {
          "output_type": "stream",
          "text": [
            "------->\n",
            "2\t3\t\n",
            "2\t5\t\n",
            "<-------\n",
            "------->\n",
            "6\t4\t2\t\n",
            "-2\t0\t2\t\n",
            "3\t2\t1\t\n",
            "<-------\n"
          ],
          "name": "stdout"
        }
      ]
    },
    {
      "cell_type": "code",
      "metadata": {
        "id": "Npq5yblRQ8c4",
        "colab_type": "code",
        "colab": {
          "base_uri": "https://localhost:8080/",
          "height": 34
        },
        "outputId": "7f55bfe1-5cdb-4161-8c6a-d5a9f2be4e11"
      },
      "source": [
        "def is_henkel(m):\n",
        "  # 2 4 5 8 2 9\n",
        "  # 4 5 8 2 9 1\n",
        "  # 5 8 2 9 1 3\n",
        "  # 8 2 9 1 3 4\n",
        "  # 2 9 1 3 4 5\n",
        "  for j, top_row in enumerate(m):\n",
        "    if j >= len(m)-1:\n",
        "      break\n",
        "    bottom_row_index = j + 1\n",
        "    if len(top_row) != len(m[bottom_row_index]):\n",
        "      return False\n",
        "    for i, _ in enumerate(top_row):\n",
        "      if i == 0:\n",
        "        continue\n",
        "      if top_row[i] != m[bottom_row_index][i-1]:\n",
        "        return False\n",
        "  return True\n",
        "h = [[2, 4, 5, 8, 2, 9], [4, 5, 8, 2, 9, 1], [5, 8, 2, 9, 1, 3], [8, 2, 9, 1, 3, 4], [2, 9, 1, 3, 4, 5]]\n",
        "print(is_henkel(h))"
      ],
      "execution_count": 15,
      "outputs": [
        {
          "output_type": "stream",
          "text": [
            "True\n"
          ],
          "name": "stdout"
        }
      ]
    },
    {
      "cell_type": "code",
      "metadata": {
        "id": "RUnioYq7yMqr",
        "colab_type": "code",
        "colab": {
          "base_uri": "https://localhost:8080/",
          "height": 272
        },
        "outputId": "9556f561-b0c0-4860-b911-8bf90b7fa81c"
      },
      "source": [
        "def creat_mat(i, j):\n",
        "  m = []\n",
        "  for ii in range(i):\n",
        "    m.append([])\n",
        "    for jj in range(j):\n",
        "      m[ii].append(0)\n",
        "  return m\n",
        "\n",
        "def transpose(m):\n",
        "  ans = creat_mat(len(m[0]), len(m))\n",
        "  for i, _ in enumerate(m):\n",
        "    for j, _ in enumerate(m1[0]):\n",
        "      ans[j][i] = m[i][j]\n",
        "  return ans\n",
        "h = [[2, 4, 5, 8, 2, 9], [4, 5, 8, 2, 9, 1], [5, 8, 2, 9, 1, 3], [8, 2, 9, 1, 3, 4], [2, 9, 1, 3, 4, 5]]\n",
        "print_mat(h)\n",
        "print_mat(transpose(h))\n"
      ],
      "execution_count": 19,
      "outputs": [
        {
          "output_type": "stream",
          "text": [
            "------->\n",
            "2\t4\t5\t8\t2\t9\t\n",
            "4\t5\t8\t2\t9\t1\t\n",
            "5\t8\t2\t9\t1\t3\t\n",
            "8\t2\t9\t1\t3\t4\t\n",
            "2\t9\t1\t3\t4\t5\t\n",
            "<-------\n",
            "------->\n",
            "2\t4\t5\t8\t2\t\n",
            "4\t5\t8\t2\t9\t\n",
            "5\t8\t2\t9\t1\t\n",
            "0\t0\t0\t0\t0\t\n",
            "0\t0\t0\t0\t0\t\n",
            "0\t0\t0\t0\t0\t\n",
            "<-------\n"
          ],
          "name": "stdout"
        }
      ]
    }
  ]
}